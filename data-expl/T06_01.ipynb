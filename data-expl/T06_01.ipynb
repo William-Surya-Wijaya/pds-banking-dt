{
 "cells": [
  {
   "cell_type": "markdown",
   "metadata": {},
   "source": [
    "<center><div style=\"font-size : 20px; font-weight : bold; color : darkbue;\">PENGANTAR DATA SCIENCE</div>\n",
    "<div>Eksplorasi Dataset Banking</div>\n",
    "<hr>\n",
    "<div>6182001004 | William Surya Wijaya - 6182001005 | Kae Zarren L H - 6182001042 | Ester Oka N</div>"
   ]
  },
  {
   "cell_type": "code",
   "execution_count": 2,
   "metadata": {},
   "outputs": [],
   "source": [
    "#import library\n",
    "import pandas as pd; from matplotlib import pyplot as plt; import requests;"
   ]
  },
  {
   "cell_type": "code",
   "execution_count": 3,
   "metadata": {},
   "outputs": [],
   "source": [
    "#import and load dataset\n",
    "url = ['https://raw.githubusercontent.com/shrk-sh-ioai/pds-banking-dt/main/banking-dt/BANK_INFO.csv'\n",
    "        ,'https://raw.githubusercontent.com/shrk-sh-ioai/pds-banking-dt/main/banking-dt/BANK_TELCO_ID.csv'\n",
    "        ,'https://raw.githubusercontent.com/shrk-sh-ioai/pds-banking-dt/main/banking-dt/AGGREGATED_TELCO_TRANSACTIONS.csv'\n",
    "        ,'https://raw.githubusercontent.com/shrk-sh-ioai/pds-banking-dt/main/banking-dt/MOBILE_OS.csv'];\n",
    "\n",
    "bankInfo = pd.read_csv(url[0], sep=\",\", encoding='cp1252');\n",
    "bankTelcoId = pd.read_csv(url[1], sep=\",\", encoding='cp1252');\n",
    "aggrTelcoTrans = pd.read_csv(url[2], sep=\",\", encoding='cp1252');\n",
    "mobileOS = pd.read_csv(url[3], sep=\",\", encoding='cp1252');"
   ]
  },
  {
   "cell_type": "code",
   "execution_count": 4,
   "metadata": {},
   "outputs": [],
   "source": [
    "#fix dataset\n",
    "\n",
    "#fix mobileOS column name\n",
    "mobileOS.rename(columns={'samsung' : 'SAMSUNG'}, inplace=True);"
   ]
  },
  {
   "cell_type": "code",
   "execution_count": 5,
   "metadata": {},
   "outputs": [],
   "source": [
    "userMobileOS = mobileOS[['BANK_ID']];\n",
    "gadgetMobileOS = mobileOS[['MOBILE','TABLET']];\n",
    "newMobileOS = mobileOS[['SAMSUNG','OPPO','HUAWEI','SONY','XIAOMI','LENOVO','ASUS','VIVO']];\n",
    "osMobileOS = mobileOS[['ANDROID','IPHONE_IOS11']];"
   ]
  },
  {
   "cell_type": "code",
   "execution_count": 145,
   "metadata": {},
   "outputs": [
    {
     "name": "stdout",
     "output_type": "stream",
     "text": [
      "[!] BANK_ID \n",
      "    Unique Value :  [10001 10002 10004 ... 29330 29331 29332] \n",
      "    Unique Total :  15005\n",
      "\n",
      "[?] Any (null) value ? False\n"
     ]
    }
   ],
   "source": [
    "#check userMobileOS columns value\n",
    "for col in userMobileOS.columns:\n",
    "    print('[!]',col,'\\n    Unique Value : ',userMobileOS[col].unique(),'\\n    Unique Total : ',len(userMobileOS[col].unique()))\n",
    "\n",
    "print('\\n[?] Any (null) value ?',userMobileOS.isnull().values.any());"
   ]
  },
  {
   "cell_type": "code",
   "execution_count": 146,
   "metadata": {},
   "outputs": [
    {
     "name": "stdout",
     "output_type": "stream",
     "text": [
      "[!] MOBILE \n",
      "    Unique Value :  [0 1] \n",
      "    Unique Total :  2\n",
      "[!] TABLET \n",
      "    Unique Value :  [0 1] \n",
      "    Unique Total :  2\n",
      "\n",
      "[?] Any (null) value ? False\n"
     ]
    }
   ],
   "source": [
    "#check gadgetMobileOS columns value\n",
    "for col in gadgetMobileOS.columns:\n",
    "    print('[!]',col,'\\n    Unique Value : ',gadgetMobileOS[col].unique(),'\\n    Unique Total : ',len(gadgetMobileOS[col].unique()))\n",
    "\n",
    "print('\\n[?] Any (null) value ?',gadgetMobileOS.isnull().values.any());"
   ]
  },
  {
   "cell_type": "code",
   "execution_count": 147,
   "metadata": {},
   "outputs": [
    {
     "name": "stdout",
     "output_type": "stream",
     "text": [
      "[!] ANDROID \n",
      "    Unique Value :  [0 1] \n",
      "    Unique Total :  2\n",
      "[!] IPHONE_IOS11 \n",
      "    Unique Value :  [0 1] \n",
      "    Unique Total :  2\n",
      "\n",
      "[?] Any (null) value ? False\n"
     ]
    }
   ],
   "source": [
    "#check osMobileOS columns value\n",
    "for col in osMobileOS.columns:\n",
    "    print('[!]',col,'\\n    Unique Value : ',osMobileOS[col].unique(),'\\n    Unique Total : ',len(osMobileOS[col].unique()))\n",
    "\n",
    "print('\\n[?] Any (null) value ?',osMobileOS.isnull().values.any());"
   ]
  },
  {
   "cell_type": "code",
   "execution_count": 141,
   "metadata": {},
   "outputs": [
    {
     "name": "stdout",
     "output_type": "stream",
     "text": [
      "[!] SAMSUNG \n",
      "    Unique Value :  [0 1] \n",
      "    Unique Total :  2\n",
      "[!] OPPO \n",
      "    Unique Value :  [0 1] \n",
      "    Unique Total :  2\n",
      "[!] HUAWEI \n",
      "    Unique Value :  [0 1] \n",
      "    Unique Total :  2\n",
      "[!] SONY \n",
      "    Unique Value :  [0 1] \n",
      "    Unique Total :  2\n",
      "[!] XIAOMI \n",
      "    Unique Value :  [0 1] \n",
      "    Unique Total :  2\n",
      "[!] LENOVO \n",
      "    Unique Value :  [0 1] \n",
      "    Unique Total :  2\n",
      "[!] ASUS \n",
      "    Unique Value :  [0 1] \n",
      "    Unique Total :  2\n",
      "[!] VIVO \n",
      "    Unique Value :  [0 1] \n",
      "    Unique Total :  2\n",
      "\n",
      "[?] Any (null) value ? False\n"
     ]
    }
   ],
   "source": [
    "#check newMobileOS columns value\n",
    "for col in newMobileOS.columns:\n",
    "    print('[!]',col,'\\n    Unique Value : ',newMobileOS[col].unique(),'\\n    Unique Total : ',len(newMobileOS[col].unique()))\n",
    "\n",
    "print('\\n[?] Any (null) value ?',newMobileOS.isnull().values.any());"
   ]
  },
  {
   "cell_type": "code",
   "execution_count": null,
   "metadata": {},
   "outputs": [],
   "source": [
    "#user mobile data - bankInfo & mobile OS left join\n",
    "userMobile = bankInfo.merge(mobileOS, on='BANK_ID', how='left', indicator=True);\n",
    "print(userMobile.head(5));"
   ]
  },
  {
   "cell_type": "code",
   "execution_count": 1,
   "metadata": {},
   "outputs": [
    {
     "ename": "NameError",
     "evalue": "name 'newMobileOS' is not defined",
     "output_type": "error",
     "traceback": [
      "\u001b[1;31m---------------------------------------------------------------------------\u001b[0m",
      "\u001b[1;31mNameError\u001b[0m                                 Traceback (most recent call last)",
      "\u001b[1;32mc:\\Users\\William Surya Wijaya\\Documents\\GitHub\\pds-banking-dt\\data-expl\\T06_01.ipynb Cell 11\u001b[0m in \u001b[0;36m<cell line: 1>\u001b[1;34m()\u001b[0m\n\u001b[1;32m----> <a href='vscode-notebook-cell:/c%3A/Users/William%20Surya%20Wijaya/Documents/GitHub/pds-banking-dt/data-expl/T06_01.ipynb#X13sZmlsZQ%3D%3D?line=0'>1</a>\u001b[0m newMobileOS[newMobileOS\u001b[39m.\u001b[39mcolumns[\u001b[39m0\u001b[39m:]]\u001b[39m.\u001b[39msum()\u001b[39m.\u001b[39mplot(kind\u001b[39m=\u001b[39m\u001b[39m'\u001b[39m\u001b[39mpie\u001b[39m\u001b[39m'\u001b[39m, y\u001b[39m=\u001b[39m\u001b[39m'\u001b[39m\u001b[39m'\u001b[39m, autopct\u001b[39m=\u001b[39m\u001b[39m'\u001b[39m\u001b[39m%1.0f\u001b[39;00m\u001b[39m%%\u001b[39;00m\u001b[39m'\u001b[39m); plt\u001b[39m.\u001b[39mshow();\n\u001b[0;32m      <a href='vscode-notebook-cell:/c%3A/Users/William%20Surya%20Wijaya/Documents/GitHub/pds-banking-dt/data-expl/T06_01.ipynb#X13sZmlsZQ%3D%3D?line=1'>2</a>\u001b[0m newMobileOS[newMobileOS\u001b[39m.\u001b[39mcolumns[\u001b[39m0\u001b[39m:]]\u001b[39m.\u001b[39msum()\u001b[39m.\u001b[39mplot(kind\u001b[39m=\u001b[39m\u001b[39m'\u001b[39m\u001b[39mbar\u001b[39m\u001b[39m'\u001b[39m, y\u001b[39m=\u001b[39m\u001b[39m'\u001b[39m\u001b[39m'\u001b[39m); plt\u001b[39m.\u001b[39mshow()\n",
      "\u001b[1;31mNameError\u001b[0m: name 'newMobileOS' is not defined"
     ]
    }
   ],
   "source": [
    "newMobileOS[newMobileOS.columns[0:]].sum().plot(kind='pie', y='', autopct='%1.0f%%'); plt.show();\n",
    "newMobileOS[newMobileOS.columns[0:]].sum().plot(kind='bar', y=''); plt.show();"
   ]
  }
 ],
 "metadata": {
  "kernelspec": {
   "display_name": "Python 3.8.5 32-bit",
   "language": "python",
   "name": "python3"
  },
  "language_info": {
   "codemirror_mode": {
    "name": "ipython",
    "version": 3
   },
   "file_extension": ".py",
   "mimetype": "text/x-python",
   "name": "python",
   "nbconvert_exporter": "python",
   "pygments_lexer": "ipython3",
   "version": "3.8.5"
  },
  "orig_nbformat": 4,
  "vscode": {
   "interpreter": {
    "hash": "7e391e6a0b49cd371207b6d1446747f6b0809d4961742e4a06ba0659d71a6059"
   }
  }
 },
 "nbformat": 4,
 "nbformat_minor": 2
}
