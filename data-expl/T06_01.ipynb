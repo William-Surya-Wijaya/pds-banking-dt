{
 "cells": [
  {
   "cell_type": "markdown",
   "metadata": {},
   "source": [
    "<center><div style=\"font-size : 20px; font-weight : bold; color : darkbue;\">PENGANTAR DATA SCIENCE</div>\n",
    "<div>Eksplorasi Dataset Banking</div>\n",
    "<hr>\n",
    "<div>6182001004 | William Surya Wijaya - 6182001005 | Kae Zarren L H - 6182001042 | Ester Oka N</div>"
   ]
  },
  {
   "cell_type": "code",
   "execution_count": 95,
   "metadata": {},
   "outputs": [],
   "source": [
    "#import library\n",
    "import pandas as pd; from matplotlib import pyplot as plt;"
   ]
  },
  {
   "cell_type": "code",
   "execution_count": 40,
   "metadata": {},
   "outputs": [],
   "source": [
    "#import and load dataset\n",
    "url = ['https://raw.githubusercontent.com/shrk-sh-ioai/pds-banking-dt/main/banking-dt/BANK_INFO.csv'\n",
    "        ,'https://raw.githubusercontent.com/shrk-sh-ioai/pds-banking-dt/main/banking-dt/BANK_TELCO_ID.csv'\n",
    "        ,'https://raw.githubusercontent.com/shrk-sh-ioai/pds-banking-dt/main/banking-dt/AGGREGATED_TELCO_TRANSACTIONS.csv'\n",
    "        ,'https://raw.githubusercontent.com/shrk-sh-ioai/pds-banking-dt/main/banking-dt/MOBILE_OS.csv'];\n",
    "\n",
    "bankInfo = pd.read_csv(url[0], sep=\",\", encoding='cp1252');\n",
    "bankTelcoId = pd.read_csv(url[1], sep=\",\", encoding='cp1252');\n",
    "aggrTelcoTrans = pd.read_csv(url[2], sep=\",\", encoding='cp1252');\n",
    "mobileOS = pd.read_csv(url[3], sep=\",\", encoding='cp1252');"
   ]
  },
  {
   "cell_type": "code",
   "execution_count": 143,
   "metadata": {},
   "outputs": [],
   "source": [
    "userMobileOS = mobileOS[['BANK_ID']];\n",
    "gadgetMobileOS = mobileOS[['MOBILE','TABLET']];\n",
    "newMobileOS = mobileOS[['SAMSUNG','OPPO','HUAWEI','SONY','XIAOMI','LENOVO','ASUS','VIVO']];\n",
    "osMobileOS = mobileOS[['ANDROID','IPHONE_IOS11']];"
   ]
  },
  {
   "cell_type": "code",
   "execution_count": 145,
   "metadata": {},
   "outputs": [
    {
     "name": "stdout",
     "output_type": "stream",
     "text": [
      "[!] BANK_ID \n",
      "    Unique Value :  [10001 10002 10004 ... 29330 29331 29332] \n",
      "    Unique Total :  15005\n",
      "\n",
      "[?] Any (null) value ? False\n"
     ]
    }
   ],
   "source": [
    "#check userMobileOS columns value\n",
    "for col in userMobileOS.columns:\n",
    "    print('[!]',col,'\\n    Unique Value : ',userMobileOS[col].unique(),'\\n    Unique Total : ',len(userMobileOS[col].unique()))\n",
    "\n",
    "print('\\n[?] Any (null) value ?',userMobileOS.isnull().values.any());"
   ]
  },
  {
   "cell_type": "code",
   "execution_count": 146,
   "metadata": {},
   "outputs": [
    {
     "name": "stdout",
     "output_type": "stream",
     "text": [
      "[!] MOBILE \n",
      "    Unique Value :  [0 1] \n",
      "    Unique Total :  2\n",
      "[!] TABLET \n",
      "    Unique Value :  [0 1] \n",
      "    Unique Total :  2\n",
      "\n",
      "[?] Any (null) value ? False\n"
     ]
    }
   ],
   "source": [
    "#check gadgetMobileOS columns value\n",
    "for col in gadgetMobileOS.columns:\n",
    "    print('[!]',col,'\\n    Unique Value : ',gadgetMobileOS[col].unique(),'\\n    Unique Total : ',len(gadgetMobileOS[col].unique()))\n",
    "\n",
    "print('\\n[?] Any (null) value ?',gadgetMobileOS.isnull().values.any());"
   ]
  },
  {
   "cell_type": "code",
   "execution_count": 147,
   "metadata": {},
   "outputs": [
    {
     "name": "stdout",
     "output_type": "stream",
     "text": [
      "[!] ANDROID \n",
      "    Unique Value :  [0 1] \n",
      "    Unique Total :  2\n",
      "[!] IPHONE_IOS11 \n",
      "    Unique Value :  [0 1] \n",
      "    Unique Total :  2\n",
      "\n",
      "[?] Any (null) value ? False\n"
     ]
    }
   ],
   "source": [
    "#check osMobileOS columns value\n",
    "for col in osMobileOS.columns:\n",
    "    print('[!]',col,'\\n    Unique Value : ',osMobileOS[col].unique(),'\\n    Unique Total : ',len(osMobileOS[col].unique()))\n",
    "\n",
    "print('\\n[?] Any (null) value ?',osMobileOS.isnull().values.any());"
   ]
  },
  {
   "cell_type": "code",
   "execution_count": 141,
   "metadata": {},
   "outputs": [
    {
     "name": "stdout",
     "output_type": "stream",
     "text": [
      "[!] SAMSUNG \n",
      "    Unique Value :  [0 1] \n",
      "    Unique Total :  2\n",
      "[!] OPPO \n",
      "    Unique Value :  [0 1] \n",
      "    Unique Total :  2\n",
      "[!] HUAWEI \n",
      "    Unique Value :  [0 1] \n",
      "    Unique Total :  2\n",
      "[!] SONY \n",
      "    Unique Value :  [0 1] \n",
      "    Unique Total :  2\n",
      "[!] XIAOMI \n",
      "    Unique Value :  [0 1] \n",
      "    Unique Total :  2\n",
      "[!] LENOVO \n",
      "    Unique Value :  [0 1] \n",
      "    Unique Total :  2\n",
      "[!] ASUS \n",
      "    Unique Value :  [0 1] \n",
      "    Unique Total :  2\n",
      "[!] VIVO \n",
      "    Unique Value :  [0 1] \n",
      "    Unique Total :  2\n",
      "\n",
      "[?] Any (null) value ? False\n"
     ]
    }
   ],
   "source": [
    "#check newMobileOS columns value\n",
    "for col in newMobileOS.columns:\n",
    "    print('[!]',col,'\\n    Unique Value : ',newMobileOS[col].unique(),'\\n    Unique Total : ',len(newMobileOS[col].unique()))\n",
    "\n",
    "print('\\n[?] Any (null) value ?',newMobileOS.isnull().values.any());"
   ]
  },
  {
   "cell_type": "code",
   "execution_count": null,
   "metadata": {},
   "outputs": [],
   "source": [
    "#user mobile data - bankInfo & mobile OS left join\n",
    "userMobile = bankInfo.merge(mobileOS, on='BANK_ID', how='left', indicator=True);\n",
    "print(userMobile.head(5));"
   ]
  },
  {
   "cell_type": "code",
   "execution_count": 99,
   "metadata": {},
   "outputs": [],
   "source": [
    "#fix dataset\n",
    "\n",
    "#fix mobileOS column name\n",
    "mobileOS.rename(columns={'samsung' : 'SAMSUNG'}, inplace=True);"
   ]
  },
  {
   "cell_type": "code",
   "execution_count": 97,
   "metadata": {},
   "outputs": [
    {
     "data": {
      "image/png": "[encoded data removed]",
      "text/plain": [
       "<Figure size 432x288 with 1 Axes>"
      ]
     },
     "metadata": {},
     "output_type": "display_data"
    },
    {
     "data": {
      "image/png": "[encoded data removed]",
      "text/plain": [
       "<Figure size 432x288 with 1 Axes>"
      ]
     },
     "metadata": {
      "needs_background": "light"
     },
     "output_type": "display_data"
    }
   ],
   "source": [
    "newMobileOS[newMobileOS.columns[1:]].sum().plot(kind='pie', y='', autopct='%1.0f%%'); plt.show();\n",
    "newMobileOS[newMobileOS.columns[1:]].sum().plot(kind='bar', y=''); plt.show();"
   ]
  }
 ],
 "metadata": {
  "kernelspec": {
   "display_name": "Python 3.8.5 32-bit",
   "language": "python",
   "name": "python3"
  },
  "language_info": {
   "codemirror_mode": {
    "name": "ipython",
    "version": 3
   },
   "file_extension": ".py",
   "mimetype": "text/x-python",
   "name": "python",
   "nbconvert_exporter": "python",
   "pygments_lexer": "ipython3",
   "version": "3.8.5"
  },
  "orig_nbformat": 4,
  "vscode": {
   "interpreter": {
    "hash": "7e391e6a0b49cd371207b6d1446747f6b0809d4961742e4a06ba0659d71a6059"
   }
  }
 },
 "nbformat": 4,
 "nbformat_minor": 2
}
