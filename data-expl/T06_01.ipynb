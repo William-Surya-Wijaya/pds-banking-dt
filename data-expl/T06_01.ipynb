{
 "cells": [
  {
   "cell_type": "markdown",
   "metadata": {},
   "source": [
    "<center><div style=\"font-size : 20px; font-weight : bold; color : darkbue;\">PENGANTAR DATA SCIENCE</div>\n",
    "<div>Eksplorasi Dataset Banking</div>\n",
    "<hr>\n",
    "<div>6182001004 | William Surya Wijaya - 6182001004 | Kae Zarren L V - 6182001042 | Ester Oka N</li></div></center>"
   ]
  },
  {
   "cell_type": "code",
   "execution_count": 5,
   "metadata": {},
   "outputs": [],
   "source": [
    "#import library\n",
    "import pandas as pd;"
   ]
  },
  {
   "cell_type": "code",
   "execution_count": 40,
   "metadata": {},
   "outputs": [],
   "source": [
    "#import and load dataset\n",
    "url = ['https://raw.githubusercontent.com/shrk-sh-ioai/pds-banking-dt/main/banking-dt/BANK_INFO.csv'\n",
    "        ,'https://raw.githubusercontent.com/shrk-sh-ioai/pds-banking-dt/main/banking-dt/BANK_TELCO_ID.csv'\n",
    "        ,'https://raw.githubusercontent.com/shrk-sh-ioai/pds-banking-dt/main/banking-dt/AGGREGATED_TELCO_TRANSACTIONS.csv'\n",
    "        ,'https://raw.githubusercontent.com/shrk-sh-ioai/pds-banking-dt/main/banking-dt/MOBILE_OS.csv'];\n",
    "\n",
    "bankInfo = pd.read_csv(url[0], sep=\",\", encoding='cp1252');\n",
    "bankTelcoId = pd.read_csv(url[1], sep=\",\", encoding='cp1252');\n",
    "aggrTelcoTrans = pd.read_csv(url[2], sep=\",\", encoding='cp1252');\n",
    "mobileOS = pd.read_csv(url[3], sep=\",\", encoding='cp1252');"
   ]
  }
 ],
 "metadata": {
  "kernelspec": {
   "display_name": "Python 3.8.5 32-bit",
   "language": "python",
   "name": "python3"
  },
  "language_info": {
   "codemirror_mode": {
    "name": "ipython",
    "version": 3
   },
   "file_extension": ".py",
   "mimetype": "text/x-python",
   "name": "python",
   "nbconvert_exporter": "python",
   "pygments_lexer": "ipython3",
   "version": "3.8.5"
  },
  "orig_nbformat": 4,
  "vscode": {
   "interpreter": {
    "hash": "7e391e6a0b49cd371207b6d1446747f6b0809d4961742e4a06ba0659d71a6059"
   }
  }
 },
 "nbformat": 4,
 "nbformat_minor": 2
}
