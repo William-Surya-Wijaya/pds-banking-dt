{
 "cells": [
  {
   "cell_type": "markdown",
   "metadata": {},
   "source": [
    "<center><div style=\"font-size : 20px; font-weight : bold; color : darkbue;\">PENGANTAR DATA SCIENCE</div>\n",
    "<div>Eksplorasi Dataset Banking</div>\n",
    "<hr>\n",
    "<div>6182001004 | William Surya Wijaya - 6182001004 | Kae Zarren L V - 6182001042 | Ester Oka N</li></div></center>"
   ]
  },
  {
   "cell_type": "code",
   "execution_count": 5,
   "metadata": {},
   "outputs": [],
   "source": [
    "#import library\n",
    "import pandas as pd;"
   ]
  },
  {
   "cell_type": "code",
   "execution_count": 35,
   "metadata": {},
   "outputs": [
    {
     "name": "stdout",
     "output_type": "stream",
     "text": [
      "   BANK_ID  AGE MARITAL_STATUS  GENDER                      EDUCATION  \\\n",
      "0    13398   42         Single    Male  No Formal Education / Unknown   \n",
      "1    16152   37        Married    Male  No Formal Education / Unknown   \n",
      "2    18560   34         Single    Male  No Formal Education / Unknown   \n",
      "3    18568   34        Married    Male            College/ University   \n",
      "4    26717   26         Single  Female                            NaN   \n",
      "\n",
      "                          STATE  \\\n",
      "0          Selangor Darul Ehsan   \n",
      "1  Negeri Sembilan Darul Khusus   \n",
      "2  Negeri Sembilan Darul Khusus   \n",
      "3          Selangor Darul Ehsan   \n",
      "4              Kedah Darul Aman   \n",
      "\n",
      "                                          OCCUPATION               OCC_DESC  \n",
      "0  Associate Professionals, Administrative/Specia...  MANAGER OR SUPERVISOR  \n",
      "1  Associate Professionals/Technician/Asst/Superv...                 OTHERS  \n",
      "2  Clerical Support Workers, Office - General Off...          NON-EXECUTIVE  \n",
      "3  Associate Professionals/Technician/Asst/Superv...    EXECUTIVE AND ABOVE  \n",
      "4  Professionals, Administration/Policy Analyst/M...    EXECUTIVE AND ABOVE  \n"
     ]
    }
   ],
   "source": [
    "url = ['https://raw.githubusercontent.com/shrk-sh-ioai/pds-banking-dt/main/banking-dt/BANK_INFO.csv'\n",
    "        ,'https://raw.githubusercontent.com/shrk-sh-ioai/pds-banking-dt/main/banking-dt/BANK_TELCO_ID.csv'\n",
    "        ,'https://raw.githubusercontent.com/shrk-sh-ioai/pds-banking-dt/main/banking-dt/AGGREGATED_TELCO_TRANSACTIONS.csv'\n",
    "        ,'https://raw.githubusercontent.com/shrk-sh-ioai/pds-banking-dt/main/banking-dt/MOBILE_OS.csv'];\n",
    "\n",
    "bankInfo = pd.read_csv(url[0], sep=\",\", encoding='cp1252');\n",
    "bankTelcoId = pd.read_csv(url, sep=\",\", encoding='cp1252');\n",
    "aggrTelcoTrans = pd.read_csv(url, sep=\",\", encoding='cp1252');\n",
    "mobileOS = pd.read_csv(url, sep=\",\", encoding='cp1252');"
   ]
  }
 ],
 "metadata": {
  "kernelspec": {
   "display_name": "Python 3.8.5 32-bit",
   "language": "python",
   "name": "python3"
  },
  "language_info": {
   "codemirror_mode": {
    "name": "ipython",
    "version": 3
   },
   "file_extension": ".py",
   "mimetype": "text/x-python",
   "name": "python",
   "nbconvert_exporter": "python",
   "pygments_lexer": "ipython3",
   "version": "3.8.5"
  },
  "orig_nbformat": 4,
  "vscode": {
   "interpreter": {
    "hash": "7e391e6a0b49cd371207b6d1446747f6b0809d4961742e4a06ba0659d71a6059"
   }
  }
 },
 "nbformat": 4,
 "nbformat_minor": 2
}
