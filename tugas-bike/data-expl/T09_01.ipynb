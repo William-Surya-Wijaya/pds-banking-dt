{
 "cells": [
  {
   "cell_type": "markdown",
   "metadata": {},
   "source": [
    "<center><div style=\"font-size : 20px; font-weight : bold; color : darkbue;\">PENGANTAR DATA SCIENCE</div>\n",
    "<div>Eksplorasi Dataset Banking</div>\n",
    "<hr>\n",
    "<div>6182001004 | William Surya W - 6182001005 | Kae Zarren L H - 6182001042 | Ester Oka N</div>"
   ]
  },
  {
   "cell_type": "code",
   "execution_count": 1,
   "metadata": {},
   "outputs": [],
   "source": [
    "import pandas as pd; import numpy as np;"
   ]
  },
  {
   "cell_type": "code",
   "execution_count": null,
   "metadata": {},
   "outputs": [],
   "source": []
  }
 ],
 "metadata": {
  "kernelspec": {
   "display_name": "Python 3.8.5 32-bit",
   "language": "python",
   "name": "python3"
  },
  "language_info": {
   "codemirror_mode": {
    "name": "ipython",
    "version": 3
   },
   "file_extension": ".py",
   "mimetype": "text/x-python",
   "name": "python",
   "nbconvert_exporter": "python",
   "pygments_lexer": "ipython3",
   "version": "3.8.5"
  },
  "orig_nbformat": 4,
  "vscode": {
   "interpreter": {
    "hash": "7e391e6a0b49cd371207b6d1446747f6b0809d4961742e4a06ba0659d71a6059"
   }
  }
 },
 "nbformat": 4,
 "nbformat_minor": 2
}
